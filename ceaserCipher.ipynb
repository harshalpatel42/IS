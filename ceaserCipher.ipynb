{
 "cells": [
  {
   "cell_type": "markdown",
   "metadata": {},
   "source": [
    "#encryption using ceaser cipher\n",
    "we use a key value K to displace alphabets (A-Z) and change the text to cipher text to encrypt basics messages"
   ]
  },
  {
   "cell_type": "code",
   "execution_count": 31,
   "metadata": {},
   "outputs": [],
   "source": [
    "#ENCRYPTION FUNCTION\n",
    "\n",
    "def encryption(p,k): #p is plaintext\n",
    "    result='' #this will be the cipher text\n",
    "\n",
    "    for i in p:\n",
    "        if i.isupper():\n",
    "            result += chr(((ord(i)+k-65)%26)+65)\n",
    "        elif i.islower():\n",
    "            result += chr(((ord(i)+k-97)%26)+97)\n",
    "\n",
    "    return result\n",
    "\n",
    "#DECRYPTION FUNCTION\n",
    "def decryption(c,k): #c is ciphertext\n",
    "    result='' #cipher to normal text\n",
    "\n",
    "    for i in c:\n",
    "        if i.isupper():\n",
    "            result += chr(((ord(i)-k-65)%26)+65)\n",
    "        elif i.islower():\n",
    "            result += chr(((ord(i)-k-97)%26)+97)\n",
    "    \n",
    "    return result\n",
    "\n",
    "#CIPHER ANALYSIS\n",
    "\n",
    "def cipher_analysis(ciphertext,plaintext):\n",
    "    for k in range(0,26):\n",
    "        if plaintext == decryption(ciphertext,k):\n",
    "           return k\n",
    "    return -1\n",
    "    \n",
    "            \n"
   ]
  },
  {
   "cell_type": "code",
   "execution_count": 32,
   "metadata": {},
   "outputs": [
    {
     "name": "stdout",
     "output_type": "stream",
     "text": [
      "Levwlep\n",
      "Harshal\n",
      "-1\n"
     ]
    }
   ],
   "source": [
    "message = \"Harshal\"\n",
    "message_encrypt = encryption(message,4)\n",
    "print(message_encrpyt)\n",
    "message_decrypt = decryption(message_encrpyt,4)\n",
    "print(message_decrypt)\n",
    "k = cipher_analysis(message_encrypt,message)\n",
    "print(k)\n"
   ]
  },
  {
   "cell_type": "markdown",
   "metadata": {},
   "source": []
  }
 ],
 "metadata": {
  "kernelspec": {
   "display_name": "Python 3",
   "language": "python",
   "name": "python3"
  },
  "language_info": {
   "codemirror_mode": {
    "name": "ipython",
    "version": 3
   },
   "file_extension": ".py",
   "mimetype": "text/x-python",
   "name": "python",
   "nbconvert_exporter": "python",
   "pygments_lexer": "ipython3",
   "version": "3.10.12"
  }
 },
 "nbformat": 4,
 "nbformat_minor": 2
}
